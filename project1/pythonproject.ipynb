{
 "cells": [
  {
   "cell_type": "code",
   "execution_count": 1,
   "id": "13b326e7-4caf-46d0-ba7f-ff3f80e50851",
   "metadata": {},
   "outputs": [
    {
     "name": "stdout",
     "output_type": "stream",
     "text": [
      "Previous expenses loaded successfully.\n",
      "\n",
      "Menu:\n",
      "1. Add Expense\n",
      "2. View Expenses\n",
      "3. Track Budget\n",
      "4. Save Expenses\n",
      "5. Exit\n"
     ]
    },
    {
     "name": "stdin",
     "output_type": "stream",
     "text": [
      "Enter the number of your choice:  2\n"
     ]
    },
    {
     "name": "stdout",
     "output_type": "stream",
     "text": [
      "\n",
      "Current Expenses:\n",
      "       date category  amount    description\n",
      "0  2024-1-1     Food   100.0  Dinner outing\n",
      "1  2024-1-2   Travel   200.0          Japan\n",
      "2  2024-1-3   Travel   300.0        America\n",
      "\n",
      "Menu:\n",
      "1. Add Expense\n",
      "2. View Expenses\n",
      "3. Track Budget\n",
      "4. Save Expenses\n",
      "5. Exit\n"
     ]
    },
    {
     "name": "stdin",
     "output_type": "stream",
     "text": [
      "Enter the number of your choice:  3\n",
      "Enter the total amount you want to budget for the month:  20\n"
     ]
    },
    {
     "name": "stdout",
     "output_type": "stream",
     "text": [
      "You have exceeded your budget! Your expenses are 600.0 and your budget was 20.0.\n",
      "\n",
      "Menu:\n",
      "1. Add Expense\n",
      "2. View Expenses\n",
      "3. Track Budget\n",
      "4. Save Expenses\n",
      "5. Exit\n"
     ]
    },
    {
     "name": "stdin",
     "output_type": "stream",
     "text": [
      "Enter the number of your choice:  3\n",
      "Enter the total amount you want to budget for the month:  5\n"
     ]
    },
    {
     "name": "stdout",
     "output_type": "stream",
     "text": [
      "You have exceeded your budget! Your expenses are 600.0 and your budget was 5.0.\n",
      "\n",
      "Menu:\n",
      "1. Add Expense\n",
      "2. View Expenses\n",
      "3. Track Budget\n",
      "4. Save Expenses\n",
      "5. Exit\n"
     ]
    },
    {
     "name": "stdin",
     "output_type": "stream",
     "text": [
      "Enter the number of your choice:  5\n"
     ]
    },
    {
     "name": "stdout",
     "output_type": "stream",
     "text": [
      "Expenses saved to expenses.csv.\n",
      "Exiting the program. Goodbye!\n"
     ]
    }
   ],
   "source": [
    "import pandas as pd\n",
    "from datetime import datetime\n",
    "import os\n",
    "\n",
    "# Function to prompt the user to enter a monthly budget\n",
    "def set_monthly_budget():\n",
    "    while True:\n",
    "        try:\n",
    "            budget = float(input(\"Enter the total amount you want to budget for the month: \"))\n",
    "            if budget < 0:\n",
    "                print(\"Budget cannot be negative. Please enter a valid amount.\")\n",
    "            else:\n",
    "                return budget\n",
    "        except ValueError:\n",
    "            print(\"Invalid input. Please enter a numeric value.\")\n",
    "\n",
    "# Function to load expenses from a CSV file\n",
    "def load_expenses(filename=\"expenses.csv\"):\n",
    "    if os.path.exists(filename):\n",
    "        expenses_df = pd.read_csv(filename)\n",
    "        print(\"Previous expenses loaded successfully.\")\n",
    "    else:\n",
    "        expenses_df = pd.DataFrame(columns=['date', 'category', 'amount', 'description'])\n",
    "        print(\"No previous expenses found. Starting fresh.\")\n",
    "    return expenses_df\n",
    "\n",
    "# Function to record new expenses and add to the DataFrame\n",
    "def record_expense(expenses_df):\n",
    "    while True:\n",
    "        # Validate the date format\n",
    "        while True:\n",
    "            date = input(\"Enter the date of the expense (YYYY-MM-DD): \")\n",
    "            try:\n",
    "                valid_date = datetime.strptime(date, \"%Y-%m-%d\")\n",
    "                break\n",
    "            except ValueError:\n",
    "                print(\"Invalid date format. Please enter the date in YYYY-MM-DD format.\")\n",
    "        \n",
    "        # Category of the expense\n",
    "        category = input(\"Enter the category of the expense (e.g., Food, Travel): \")\n",
    "        \n",
    "        # Validate the amount\n",
    "        while True:\n",
    "            try:\n",
    "                amount = float(input(\"Enter the amount spent: \"))\n",
    "                if amount < 0:\n",
    "                    print(\"Amount cannot be negative. Please enter a valid amount.\")\n",
    "                else:\n",
    "                    break\n",
    "            except ValueError:\n",
    "                print(\"Invalid amount. Please enter a numeric value.\")\n",
    "        \n",
    "        # Description of the expense\n",
    "        description = input(\"Enter a brief description of the expense: \")\n",
    "        \n",
    "        # Append the new expense to the DataFrame\n",
    "        expenses_df = pd.concat([expenses_df, pd.DataFrame([{'date': date, 'category': category, 'amount': amount, 'description': description}])], ignore_index=True)\n",
    "        \n",
    "        # Ask if user wants to enter another expense\n",
    "        more = input(\"Do you want to enter another expense? (yes/no): \").strip().lower()\n",
    "        if more != 'yes':\n",
    "            break\n",
    "\n",
    "    return expenses_df\n",
    "\n",
    "# Function to save expenses to a CSV file\n",
    "def save_expenses(expenses_df, filename=\"expenses.csv\"):\n",
    "    expenses_df.to_csv(filename, index=False)\n",
    "    print(f\"Expenses saved to {filename}.\")\n",
    "\n",
    "# Function to calculate total expenses and check budget\n",
    "def check_budget(expenses_df):\n",
    "    total_expenses = expenses_df['amount'].sum()  # Sum of all expenses\n",
    "\n",
    "    # Set the monthly budget\n",
    "    budget = set_monthly_budget()\n",
    "\n",
    "    \n",
    "    if total_expenses > budget:\n",
    "        print(f\"You have exceeded your budget! Your expenses are {total_expenses} and your budget was {budget}.\")\n",
    "    else:\n",
    "        remaining_balance = budget - total_expenses\n",
    "        print(f\"You have {remaining_balance} left for the month.\")\n",
    "\n",
    "# Function to display all expenses\n",
    "def view_expenses(expenses_df):\n",
    "    if expenses_df.empty:\n",
    "        print(\"No expenses recorded yet.\")\n",
    "    else:\n",
    "        print(\"\\nCurrent Expenses:\")\n",
    "        print(expenses_df)\n",
    "\n",
    "# Function to display menu and get user's choice\n",
    "def display_menu():\n",
    "    print(\"\\nMenu:\")\n",
    "    print(\"1. Add Expense\")\n",
    "    print(\"2. View Expenses\")\n",
    "    print(\"3. Track Budget\")\n",
    "    print(\"4. Save Expenses\")\n",
    "    print(\"5. Exit\")\n",
    "    choice = input(\"Enter the number of your choice: \")\n",
    "    return choice\n",
    "\n",
    "# Main function to coordinate everything\n",
    "def main():\n",
    "    # Load previous expenses\n",
    "    expenses_df = load_expenses()\n",
    "        \n",
    "    # Main program loop\n",
    "    while True:\n",
    "        choice = display_menu()\n",
    "        \n",
    "        if choice == '1':\n",
    "            # Add expense\n",
    "            expenses_df = record_expense(expenses_df)\n",
    "        \n",
    "        elif choice == '2':\n",
    "            # View expenses\n",
    "            view_expenses(expenses_df)\n",
    "        \n",
    "        elif choice == '3':\n",
    "            # Track budget\n",
    "            check_budget(expenses_df)\n",
    "        \n",
    "        elif choice == '4':\n",
    "            # Save expenses\n",
    "            save_expenses(expenses_df)\n",
    "        \n",
    "        elif choice == '5':\n",
    "            # Save and exit\n",
    "            save_expenses(expenses_df)\n",
    "            print(\"Exiting the program.\")\n",
    "            break\n",
    "        \n",
    "        else:\n",
    "            print(\"Invalid choice. Please enter a number between 1 and 5.\")\n",
    "\n",
    "# Run the main function\n",
    "main()"
   ]
  },
  {
   "cell_type": "code",
   "execution_count": null,
   "id": "eff8842b-6efb-4525-b0a7-02824b40b4ae",
   "metadata": {},
   "outputs": [],
   "source": []
  },
  {
   "cell_type": "code",
   "execution_count": null,
   "id": "69a58922-be44-4bc5-9a09-afcd2df96699",
   "metadata": {},
   "outputs": [],
   "source": []
  },
  {
   "cell_type": "code",
   "execution_count": null,
   "id": "09c3c19f-75d0-4873-ab68-0258e5b6f1a1",
   "metadata": {},
   "outputs": [],
   "source": []
  }
 ],
 "metadata": {
  "kernelspec": {
   "display_name": "Python 3 (ipykernel)",
   "language": "python",
   "name": "python3"
  },
  "language_info": {
   "codemirror_mode": {
    "name": "ipython",
    "version": 3
   },
   "file_extension": ".py",
   "mimetype": "text/x-python",
   "name": "python",
   "nbconvert_exporter": "python",
   "pygments_lexer": "ipython3",
   "version": "3.10.15"
  }
 },
 "nbformat": 4,
 "nbformat_minor": 5
}
